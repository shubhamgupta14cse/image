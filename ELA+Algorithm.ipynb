{
 "cells": [
  {
   "cell_type": "code",
   "execution_count": null,
   "metadata": {
    "collapsed": true
   },
   "outputs": [],
   "source": [
    "import matplotlib.pyplot as plt\n",
    "import cv2\n",
    "import numpy as np\n",
    "\n",
    "%matplotlib inline"
   ]
  },
  {
   "cell_type": "code",
   "execution_count": null,
   "metadata": {},
   "outputs": [],
   "source": [
    "image = cv2.imread(\"pic.jpg\")\n",
    "image_out = np.zeros(image.shape, dtype=np.uint8)\n",
    "plt.imshow(image)"
   ]
  },
  {
   "cell_type": "code",
   "execution_count": null,
   "metadata": {},
   "outputs": [],
   "source": [
    "image.shape"
   ]
  },
  {
   "cell_type": "code",
   "execution_count": null,
   "metadata": {
    "collapsed": true
   },
   "outputs": [],
   "source": [
    "image_orig = cv2.imread('pic.jpg')\n",
    "cv2.imwrite('temp.jpg', image_orig, [cv2.IMWRITE_JPEG_QUALITY, 90])\n",
    "image_re = cv2.imread(\"temp.jpg\")\n"
   ]
  },
  {
   "cell_type": "code",
   "execution_count": null,
   "metadata": {},
   "outputs": [],
   "source": [
    "%load_ext cython"
   ]
  },
  {
   "cell_type": "code",
   "execution_count": null,
   "metadata": {},
   "outputs": [],
   "source": [
    "%%cython -a\n",
    "\n",
    "def ela_slow(image, image_re, image_out):\n",
    "    h = image.shape[0]\n",
    "    w = image.shape[1]\n",
    "    \n",
    "    for y in range(0, h):\n",
    "        for x in range(0, w):\n",
    "        \n",
    "            image_out[y, x, 0] = abs(image[y, x, 0] - image_re[y, x, 0])*10\n",
    "            image_out[y, x, 1] = abs(image[y, x, 1] - image_re[y, x, 1])*10\n",
    "            image_out[y, x, 2] = abs(image[y, x, 2] - image_re[y, x, 2])*10\n",
    "\n",
    "    return image_out"
   ]
  },
  {
   "cell_type": "code",
   "execution_count": null,
   "metadata": {},
   "outputs": [],
   "source": [
    "%%cython -a\n",
    "import cython\n",
    "\n",
    "@cython.boundscheck(False)\n",
    "cpdef unsigned char[:, :, :] ela_fast(unsigned char [:, :, :] image, unsigned char [:, :, :] image_re, unsigned char [:, :, :] image_out):\n",
    "    \n",
    "    cdef int x, y, w, h\n",
    "    \n",
    "    h = image.shape[0]\n",
    "    w = image.shape[1]\n",
    "    \n",
    "    \n",
    "    for y in range(0, h):\n",
    "        for x in range(0, w):\n",
    "            \n",
    "            image_out[y, x, 0] = abs(image[y, x, 0] - image_re[y, x, 0])*10\n",
    "            image_out[y, x, 1] = abs(image[y, x, 1] - image_re[y, x, 1])*10\n",
    "            image_out[y, x, 2] = abs(image[y, x, 2] - image_re[y, x, 2])*10\n",
    "\n",
    "    \n",
    "    \n",
    "    return image_out"
   ]
  },
  {
   "cell_type": "code",
   "execution_count": null,
   "metadata": {
    "collapsed": true,
    "scrolled": true
   },
   "outputs": [],
   "source": [
    "%timeit ela_slow(image, image_re, image_out)\n"
   ]
  },
  {
   "cell_type": "code",
   "execution_count": null,
   "metadata": {},
   "outputs": [],
   "source": [
    "%timeit ela_fast(image, image_re, image_out)"
   ]
  },
  {
   "cell_type": "code",
   "execution_count": null,
   "metadata": {},
   "outputs": [],
   "source": [
    "plt.imshow(image_out)\n"
   ]
  },
  {
   "cell_type": "code",
   "execution_count": null,
   "metadata": {},
   "outputs": [],
   "source": [
    "plt.imshow(image_orig)"
   ]
  },
  {
   "cell_type": "code",
   "execution_count": null,
   "metadata": {},
   "outputs": [],
   "source": [
    "cv2.imwrite('ela.jpg', image_out,)"
   ]
  }
 ],
 "metadata": {
  "kernelspec": {
   "display_name": "Python 3",
   "language": "python",
   "name": "python3"
  },
  "language_info": {
   "codemirror_mode": {
    "name": "ipython",
    "version": 3
   },
   "file_extension": ".py",
   "mimetype": "text/x-python",
   "name": "python",
   "nbconvert_exporter": "python",
   "pygments_lexer": "ipython3",
   "version": "3.6.3"
  }
 },
 "nbformat": 4,
 "nbformat_minor": 2
}
